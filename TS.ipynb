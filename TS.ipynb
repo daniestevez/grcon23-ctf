{
 "cells": [
  {
   "cell_type": "code",
   "execution_count": 1,
   "id": "a9738632-24fb-40eb-986b-234884f9afad",
   "metadata": {},
   "outputs": [],
   "source": [
    "%matplotlib inline\n",
    "\n",
    "import collections\n",
    "import random\n",
    "import socket\n",
    "import struct\n",
    "import time\n",
    "import subprocess\n",
    "\n",
    "import numpy as np\n",
    "import matplotlib.pyplot as plt\n",
    "import scipy.signal\n",
    "\n",
    "import scapy.layers.tftp as tftp\n",
    "from scapy.layers.inet import UDP\n",
    "from scapy.layers.inet6 import IPv6\n",
    "\n",
    "import sigmf\n",
    "\n",
    "plt.rcParams['figure.figsize'] = (7, 3.5)"
   ]
  },
  {
   "cell_type": "code",
   "execution_count": 2,
   "id": "d3bdc324-e209-4d87-a86d-1d57fe87a025",
   "metadata": {},
   "outputs": [],
   "source": [
    "def crc8(data):\n",
    "    reg = 0\n",
    "    for d in data:\n",
    "        for j in range(8):\n",
    "            b = (d >> (7 - j)) & 1\n",
    "            feed = (reg >> 7) ^ b\n",
    "            reg = (reg << 1) & 0xff\n",
    "            if feed:\n",
    "                reg ^= 0b1101_0101\n",
    "    return reg"
   ]
  },
  {
   "cell_type": "code",
   "execution_count": 3,
   "id": "132f9ecc-3913-4b06-8181-1a22539300f5",
   "metadata": {},
   "outputs": [
    {
     "data": {
      "text/plain": [
       "988858.1101877502"
      ]
     },
     "execution_count": 3,
     "metadata": {},
     "output_type": "execute_result"
    }
   ],
   "source": [
    "symbol_rate = 1e6\n",
    "kbch = 32208 # r = 1/2\n",
    "dfl = kbch - 80  # 80 bits is BBHEADER size\n",
    "numslots = 360  # QPSK\n",
    "numsymbols = numslots * 90 + 90  # PLHEADER is 90 symbols\n",
    "ts_rate = dfl / (numsymbols / symbol_rate)\n",
    "ts_rate"
   ]
  },
  {
   "cell_type": "code",
   "execution_count": 4,
   "id": "a503fb15-8d4f-4699-95e4-3f8d307a5728",
   "metadata": {},
   "outputs": [
    {
     "data": {
      "text/plain": [
       "'0x5e0'"
      ]
     },
     "execution_count": 4,
     "metadata": {},
     "output_type": "execute_result"
    }
   ],
   "source": [
    "hex((188 + 0*2 + 0*1) * 8)"
   ]
  },
  {
   "cell_type": "code",
   "execution_count": 5,
   "id": "deead7cb-28ab-48bb-a9a6-3ff4a156573b",
   "metadata": {},
   "outputs": [
    {
     "data": {
      "text/plain": [
       "'0x7d80'"
      ]
     },
     "execution_count": 5,
     "metadata": {},
     "output_type": "execute_result"
    }
   ],
   "source": [
    "hex(dfl)"
   ]
  },
  {
   "cell_type": "code",
   "execution_count": 6,
   "id": "a1d672fc-4c40-4cbe-9611-133bbad90587",
   "metadata": {},
   "outputs": [
    {
     "data": {
      "text/plain": [
       "'0xc'"
      ]
     },
     "execution_count": 6,
     "metadata": {},
     "output_type": "execute_result"
    }
   ],
   "source": [
    "hex(0b1100)"
   ]
  },
  {
   "cell_type": "code",
   "execution_count": 7,
   "id": "d505f494-e38f-46ce-b829-ee7063ea02f6",
   "metadata": {},
   "outputs": [],
   "source": [
    "# fixed part of BBHEADER\n",
    "# to append: SYNCD (2 bytes) and CRC-8\n",
    "bbheader = bytes.fromhex('c20005e07d8047')\n",
    "\n",
    "# complete BBHEADER (3rd stream)\n",
    "bbheader2 = bytes.fromhex('c20205e0e30047')"
   ]
  },
  {
   "cell_type": "code",
   "execution_count": 8,
   "id": "255053d8-cc01-482f-aead-4ddbc60aee13",
   "metadata": {},
   "outputs": [],
   "source": [
    "file = 'tftp/gr-dvbgse.tar.xz'\n",
    "blksize = 1432\n",
    "file_data = np.fromfile(file, 'uint8')\n",
    "file_blocks = []\n",
    "for j in range(0, file_data.size, blksize):\n",
    "    file_blocks.append(bytes(file_data[j:][:blksize]))"
   ]
  },
  {
   "cell_type": "code",
   "execution_count": 9,
   "id": "4aa55bb1-ec54-4f2d-801b-43ee55eabdc9",
   "metadata": {},
   "outputs": [],
   "source": [
    "server_ip = 'fe80::1'\n",
    "client_ip = 'fe80::2'\n",
    "server_port = 27339\n",
    "client_port = 41943\n",
    "tftp_packet = IPv6(src=server_ip, dst=client_ip) / UDP(sport=server_port, dport=client_port) / tftp.TFTP()\n",
    "ip_packets = []\n",
    "ip_packets.append(tftp_packet\n",
    "            / tftp.TFTP_OACK() / tftp.TFTP_Options(options=[\n",
    "                tftp.TFTP_Option(oname=b'blksize', value=bytes(str(blksize), encoding='ascii')),\n",
    "                tftp.TFTP_Option(oname=b'tsize', value=bytes(str(file_data.size), encoding='ascii'))]))\n",
    "for j, block in enumerate(file_blocks):\n",
    "    ip_packets.append(tftp_packet / tftp.TFTP_DATA(block=j+1) / block)"
   ]
  },
  {
   "cell_type": "code",
   "execution_count": 10,
   "id": "660d39db-cae9-45e0-a5c7-af24100bd383",
   "metadata": {},
   "outputs": [],
   "source": [
    "gse_packets = []\n",
    "protocol_type = struct.pack('>H', 0x86DD)  # ipv6\n",
    "for ip_packet in ip_packets:\n",
    "    ip_packet = bytes(ip_packet)\n",
    "    gse_length = 2 + len(ip_packet)\n",
    "    gse_packet = struct.pack('>H', gse_length | (0b1110 << 12)) + protocol_type + ip_packet\n",
    "    gse_packets.append(gse_packet)\n",
    "\n",
    "gse_bbframes = []\n",
    "gse_frames_per_bbframe = 2\n",
    "for j in range(0, len(gse_packets), gse_frames_per_bbframe):\n",
    "    packets = b''.join(gse_packets[j:][:gse_frames_per_bbframe])\n",
    "    gse_dfl = len(packets) * 8\n",
    "    bbh = bytes.fromhex('42010000') + struct.pack('>H', gse_dfl) + bytes.fromhex('000000')\n",
    "    bbh = bbh + struct.pack('>B', crc8(bbh))\n",
    "    padding_len = (dfl - gse_dfl) // 8\n",
    "    gse_bbframes.append(bbh + packets + b'\\x00' * padding_len)"
   ]
  },
  {
   "cell_type": "code",
   "execution_count": 11,
   "id": "8b7c6f75-44d4-490c-b57f-9f52615740fe",
   "metadata": {},
   "outputs": [
    {
     "data": {
      "text/plain": [
       "30"
      ]
     },
     "execution_count": 11,
     "metadata": {},
     "output_type": "execute_result"
    }
   ],
   "source": [
    "len(gse_bbframes)"
   ]
  },
  {
   "cell_type": "code",
   "execution_count": 12,
   "id": "f1169d3d-8127-4f8c-ad65-187a06206887",
   "metadata": {},
   "outputs": [
    {
     "data": {
      "text/plain": [
       "(39478, 188)"
      ]
     },
     "execution_count": 12,
     "metadata": {},
     "output_type": "execute_result"
    }
   ],
   "source": [
    "ts = np.fromfile('frames/output.ts', dtype = 'uint8').reshape(-1,188)\n",
    "ts.shape"
   ]
  },
  {
   "cell_type": "code",
   "execution_count": 13,
   "id": "b4b7dcd9-b8ac-478d-be08-46ec82171856",
   "metadata": {},
   "outputs": [],
   "source": [
    "ts_bbframes = []\n",
    "data_field = b''\n",
    "syncd = 0\n",
    "up_crc = 0\n",
    "dnp = 0\n",
    "npd_every = 30\n",
    "npd_count = 0\n",
    "for up in ts:\n",
    "    up_pid = up[1:3].view('uint16').byteswap() & 0x1fff\n",
    "    if up_pid == 8191:\n",
    "        npd_count += 1\n",
    "        if npd_count % npd_every == 0:\n",
    "            # delete null packet\n",
    "            continue\n",
    "    up = struct.pack('>B', up_crc) + bytes(up[1:])\n",
    "    #issy = struct.pack('>H', iscr_val & 0x7fff)\n",
    "    #dnp_enc = struct.pack('>B', dnp)\n",
    "    #up = up + issy + dnp_enc\n",
    "    up_crc = crc8(up[1:])\n",
    "    n = min(dfl//8 - len(data_field), len(up))\n",
    "    data_field = data_field + up[:n]\n",
    "    if len(data_field) == dfl//8:\n",
    "        header = bbheader + struct.pack('>H', syncd)\n",
    "        header = header + struct.pack('>B', crc8(header))\n",
    "        bbframe = header + data_field\n",
    "        ts_bbframes.append(bbframe)\n",
    "        data_field = up[n:]\n",
    "        syncd = len(data_field) * 8"
   ]
  },
  {
   "cell_type": "code",
   "execution_count": 14,
   "id": "ec6dff3d-3983-44b9-af2b-88a8fc41560b",
   "metadata": {},
   "outputs": [],
   "source": [
    "random.seed(42)\n",
    "insertion_points = sorted(random.sample(range(len(ts_bbframes) // 10, len(ts_bbframes) - 10), len(gse_bbframes)))\n",
    "bbframes = []\n",
    "k = 0\n",
    "for j, b in enumerate(ts_bbframes):\n",
    "    if j in insertion_points:\n",
    "        bbframes.append(gse_bbframes[k])\n",
    "        k += 1\n",
    "    bbframes.append(b)"
   ]
  },
  {
   "cell_type": "code",
   "execution_count": 15,
   "id": "37287436-991a-4a03-845f-643076086417",
   "metadata": {},
   "outputs": [],
   "source": [
    "with open('bbframes.u8', 'wb') as f:\n",
    "    for b in bbframes:\n",
    "        f.write(b)"
   ]
  },
  {
   "cell_type": "code",
   "execution_count": 16,
   "id": "643a39c0-8d4d-42c6-bf5f-c746cb1498e1",
   "metadata": {},
   "outputs": [
    {
     "name": "stderr",
     "output_type": "stream",
     "text": [
      "vmcircbuf_sysconfig :info: Using gr::vmcircbuf_sysv_shm_factory\n"
     ]
    },
    {
     "data": {
      "text/plain": [
       "CompletedProcess(args=['/usr/bin/python3', 'dvbs2_encode.py'], returncode=0)"
      ]
     },
     "execution_count": 16,
     "metadata": {},
     "output_type": "execute_result"
    }
   ],
   "source": [
    "subprocess.run(['/usr/bin/python3', 'dvbs2_encode.py'])"
   ]
  },
  {
   "cell_type": "code",
   "execution_count": 17,
   "id": "92b416de-cbcf-4488-a04d-5195a95c3950",
   "metadata": {},
   "outputs": [],
   "source": [
    "plframes = np.fromfile('qpsk12_plframes.c64', 'complex64').reshape(-1, 2 * numsymbols)\n",
    "assert plframes.shape[0] == len(bbframes)"
   ]
  },
  {
   "cell_type": "code",
   "execution_count": 18,
   "id": "b4e6bff7-52c8-4ef2-ae82-97365002cd7f",
   "metadata": {},
   "outputs": [],
   "source": [
    "kbch2 = 58192 # r = 9/10\n",
    "dfl2 = kbch2 - 80  # 80 bits is BBHEADER size\n",
    "numslots2 = 240  # QPSK\n",
    "numsymbols2 = numslots2 * 90 + 90  # PLHEADER is 90 symbols"
   ]
  },
  {
   "cell_type": "code",
   "execution_count": 19,
   "id": "6b748126-9747-4694-9c76-6356578be79c",
   "metadata": {},
   "outputs": [],
   "source": [
    "flag10_text = np.fromfile('flag10.txt', 'uint8')\n",
    "flag10_text = np.tile(flag10_text, 5500//flag10_text.size)"
   ]
  },
  {
   "cell_type": "code",
   "execution_count": 20,
   "id": "6dc86762-c401-4298-ae09-38c71147fd94",
   "metadata": {},
   "outputs": [],
   "source": [
    "flag10_ts = []\n",
    "j = 0\n",
    "seq = 0\n",
    "nullpacket = bytes.fromhex('471fff10') + b'\\xff' * 184\n",
    "while len((remain := flag10_text[j:])) >= 184:\n",
    "    flag10_ts.append(b'G\\x0e\\x2b' + struct.pack('>B', seq | (1 << 4)) + bytes(flag10_text[j:][:184]))\n",
    "    flag10_ts.extend([nullpacket] * np.random.randint(3))\n",
    "    j += 184\n",
    "    seq = (seq + 1) & 0xf"
   ]
  },
  {
   "cell_type": "code",
   "execution_count": 21,
   "id": "08d9e3b7-17d3-4147-a9f7-a1d127ee7efa",
   "metadata": {},
   "outputs": [],
   "source": [
    "ts2_bbframes = []\n",
    "data_field = b''\n",
    "syncd = 0\n",
    "up_crc = 0\n",
    "for up in flag10_ts:\n",
    "    up = struct.pack('>B', up_crc) + bytes(up[1:])\n",
    "    up_crc = crc8(up[1:])\n",
    "    n = min(dfl2//8 - len(data_field), len(up))\n",
    "    data_field = data_field + up[:n]\n",
    "    if len(data_field) == dfl2//8:\n",
    "        header = bbheader2 + struct.pack('>H', syncd)\n",
    "        header = header + struct.pack('>B', crc8(header))\n",
    "        bbframe = header + data_field\n",
    "        ts2_bbframes.append(bbframe)\n",
    "        data_field = up[n:]\n",
    "        syncd = len(data_field) * 8"
   ]
  },
  {
   "cell_type": "code",
   "execution_count": 22,
   "id": "f642bfa6-2a97-43e2-81e4-20ff21fe6784",
   "metadata": {},
   "outputs": [],
   "source": [
    "with open('flag10.ts', 'wb') as f:\n",
    "    f.write(b''.join(flag10_ts))\n",
    "\n",
    "with open('bbframes_8psk.u8', 'wb') as f:\n",
    "    for b in ts2_bbframes:\n",
    "        f.write(b)"
   ]
  },
  {
   "cell_type": "code",
   "execution_count": 23,
   "id": "5ce972f6-d720-49c8-be83-e8124eba3ba3",
   "metadata": {},
   "outputs": [
    {
     "name": "stderr",
     "output_type": "stream",
     "text": [
      "vmcircbuf_sysconfig :info: Using gr::vmcircbuf_sysv_shm_factory\n"
     ]
    },
    {
     "data": {
      "text/plain": [
       "CompletedProcess(args=['/usr/bin/python3', 'dvbs2_encode_8psk.py'], returncode=0)"
      ]
     },
     "execution_count": 23,
     "metadata": {},
     "output_type": "execute_result"
    }
   ],
   "source": [
    "subprocess.run(['/usr/bin/python3', 'dvbs2_encode_8psk.py'])"
   ]
  },
  {
   "cell_type": "code",
   "execution_count": 24,
   "id": "ac07e350-bb9d-4940-a5ed-380fc1677199",
   "metadata": {},
   "outputs": [],
   "source": [
    "plframes2 = np.fromfile('8psk910_plframes.c64', 'complex64').reshape(-1, 2 * numsymbols2)\n",
    "assert plframes2.shape[0] == len(ts2_bbframes)"
   ]
  },
  {
   "cell_type": "code",
   "execution_count": 25,
   "id": "eb509ac7-7191-4e4b-8443-051c8d077be7",
   "metadata": {},
   "outputs": [],
   "source": [
    "cut_point = plframes.shape[0] // 2\n",
    "with open('plframes_all.c64', 'wb') as f:\n",
    "    plframes[:cut_point].tofile(f)\n",
    "    plframes2.tofile(f)\n",
    "    plframes[-cut_point:].tofile(f)"
   ]
  },
  {
   "cell_type": "code",
   "execution_count": 26,
   "id": "9bb2c9a3-07ef-46d6-a3de-bfbfd31631a3",
   "metadata": {},
   "outputs": [
    {
     "data": {
      "text/plain": [
       "59.96574"
      ]
     },
     "execution_count": 26,
     "metadata": {},
     "output_type": "execute_result"
    }
   ],
   "source": [
    "(plframes.size + plframes2.size)//2 / symbol_rate"
   ]
  },
  {
   "cell_type": "code",
   "execution_count": 27,
   "id": "2d9aeb6c-8f8a-4751-aec4-a60d3fbf0107",
   "metadata": {},
   "outputs": [
    {
     "name": "stderr",
     "output_type": "stream",
     "text": [
      "vmcircbuf_sysconfig :info: Using gr::vmcircbuf_sysv_shm_factory\n"
     ]
    },
    {
     "data": {
      "text/plain": [
       "CompletedProcess(args=['/usr/bin/python3', 'dvbs2_iqfile.py'], returncode=0)"
      ]
     },
     "execution_count": 27,
     "metadata": {},
     "output_type": "execute_result"
    }
   ],
   "source": [
    "subprocess.run(['/usr/bin/python3', 'dvbs2_iqfile.py'])"
   ]
  },
  {
   "cell_type": "code",
   "execution_count": 28,
   "id": "9cbeef98-1712-465c-9aaf-13d28e8360d0",
   "metadata": {},
   "outputs": [],
   "source": [
    "# create the metadata\n",
    "meta = sigmf.SigMFFile(\n",
    "    data_file='dvbs2.sigmf-data', # extension is optional\n",
    "    global_info = {\n",
    "        sigmf.SigMFFile.DATATYPE_KEY: 'ci8',  # in this case, 'cf32_le'\n",
    "        sigmf.SigMFFile.SAMPLE_RATE_KEY: 2_000_000,\n",
    "        sigmf.SigMFFile.AUTHOR_KEY: 'Daniel Estévez <daniel@destevez.net>',\n",
    "        sigmf.SigMFFile.DESCRIPTION_KEY: 'GNU Radio Conference 2023 CTF DVB-S2 challenge',\n",
    "        sigmf.SigMFFile.VERSION_KEY: sigmf.__version__,\n",
    "    }\n",
    ")\n",
    "\n",
    "# create a capture key at time index 0\n",
    "meta.add_capture(0, metadata={\n",
    "    sigmf.SigMFFile.FREQUENCY_KEY: 11723_000_000,\n",
    "    sigmf.SigMFFile.DATETIME_KEY: '2023-09-05T03:45:00Z',\n",
    "})\n",
    "\n",
    "# check for mistakes & write to disk\n",
    "meta.tofile('dvbs2.sigmf-meta') # extension is optional"
   ]
  },
  {
   "cell_type": "code",
   "execution_count": 29,
   "id": "2b44c6c0-ef7f-4e99-938d-cce48ae32802",
   "metadata": {},
   "outputs": [],
   "source": [
    "sock = socket.socket(socket.AF_INET, socket.SOCK_DGRAM)\n",
    "for bb in bbframes:\n",
    "    sock.sendto(bb, ('127.0.0.1', 5000))\n",
    "    time.sleep(0.001)"
   ]
  },
  {
   "cell_type": "code",
   "execution_count": 30,
   "id": "25fe1ae7-7e61-4079-adc8-d1765b099ad0",
   "metadata": {},
   "outputs": [
    {
     "data": {
      "text/plain": [
       "array([71], dtype=uint8)"
      ]
     },
     "execution_count": 30,
     "metadata": {},
     "output_type": "execute_result"
    }
   ],
   "source": [
    "# sync byte 71 = 0x47\n",
    "np.unique(ts[:, 0])"
   ]
  },
  {
   "cell_type": "code",
   "execution_count": 31,
   "id": "5687c48e-9bb3-4f6a-bd3f-3163eb462b0d",
   "metadata": {},
   "outputs": [
    {
     "data": {
      "text/plain": [
       "array([0], dtype=uint8)"
      ]
     },
     "execution_count": 31,
     "metadata": {},
     "output_type": "execute_result"
    }
   ],
   "source": [
    "# TEI = 0\n",
    "np.unique(ts[:, 1] >> 7)"
   ]
  },
  {
   "cell_type": "code",
   "execution_count": 32,
   "id": "27cb6b20-6090-426d-9c19-a1ca781889ce",
   "metadata": {},
   "outputs": [
    {
     "data": {
      "text/plain": [
       "array([0], dtype=uint8)"
      ]
     },
     "execution_count": 32,
     "metadata": {},
     "output_type": "execute_result"
    }
   ],
   "source": [
    "pusi = (ts[:, 1] >> 6) & 1\n",
    "# priority = 0\n",
    "np.unique((ts[:, 1] >> 5) & 1)"
   ]
  },
  {
   "cell_type": "code",
   "execution_count": 33,
   "id": "3bfce14f-bbfa-47b9-bd11-86ee43babb27",
   "metadata": {},
   "outputs": [
    {
     "data": {
      "text/plain": [
       "Counter({8191: 21014,\n",
       "         256: 13200,\n",
       "         257: 3046,\n",
       "         0: 601,\n",
       "         4096: 601,\n",
       "         258: 591,\n",
       "         260: 195,\n",
       "         17: 120,\n",
       "         259: 110})"
      ]
     },
     "execution_count": 33,
     "metadata": {},
     "output_type": "execute_result"
    }
   ],
   "source": [
    "pid = ts[:, 1:3].ravel().view('uint16').byteswap() & 0x1fff\n",
    "collections.Counter(pid)"
   ]
  },
  {
   "cell_type": "code",
   "execution_count": 34,
   "id": "0a4c2fc4-4f8e-4002-a24b-08710f75d54e",
   "metadata": {},
   "outputs": [
    {
     "data": {
      "text/plain": [
       "0.46770353108060186"
      ]
     },
     "execution_count": 34,
     "metadata": {},
     "output_type": "execute_result"
    }
   ],
   "source": [
    "# non-null fraction\n",
    "np.average(pid != 8191)"
   ]
  },
  {
   "cell_type": "code",
   "execution_count": 35,
   "id": "c6bac8be-4541-48c9-9d80-f4e10fec8532",
   "metadata": {},
   "outputs": [
    {
     "data": {
      "text/plain": [
       "array([0], dtype=uint8)"
      ]
     },
     "execution_count": 35,
     "metadata": {},
     "output_type": "execute_result"
    }
   ],
   "source": [
    "# TSC = 0\n",
    "np.unique(ts[:, 3] >> 6)"
   ]
  },
  {
   "cell_type": "code",
   "execution_count": 36,
   "id": "d0b2df97-2a44-4bf2-916f-6cd311f24614",
   "metadata": {},
   "outputs": [
    {
     "data": {
      "text/plain": [
       "Counter({(8191, 1): 21014,\n",
       "         (256, 1): 9459,\n",
       "         (257, 1): 2662,\n",
       "         (256, 3): 2581,\n",
       "         (256, 2): 1160,\n",
       "         (0, 1): 600,\n",
       "         (4096, 1): 600,\n",
       "         (257, 3): 384,\n",
       "         (258, 3): 330,\n",
       "         (258, 1): 261,\n",
       "         (260, 1): 177,\n",
       "         (17, 1): 119,\n",
       "         (259, 1): 92,\n",
       "         (259, 3): 18,\n",
       "         (260, 3): 18,\n",
       "         (17, 3): 1,\n",
       "         (0, 3): 1,\n",
       "         (4096, 3): 1})"
      ]
     },
     "execution_count": 36,
     "metadata": {},
     "output_type": "execute_result"
    }
   ],
   "source": [
    "adaptation = (ts[:, 3] >> 4) & 0x3\n",
    "collections.Counter(zip(pid, adaptation))"
   ]
  },
  {
   "cell_type": "code",
   "execution_count": 37,
   "id": "3f13209f-0408-4671-98e3-93c0113f1269",
   "metadata": {},
   "outputs": [],
   "source": [
    "continuity = ts[:, 3] & 0xf"
   ]
  },
  {
   "cell_type": "code",
   "execution_count": 38,
   "id": "fb794a98-a272-43c5-91ce-1e97f4151ed3",
   "metadata": {},
   "outputs": [
    {
     "data": {
      "text/plain": [
       "[(0, array([0], dtype=uint8)),\n",
       " (4096, array([0], dtype=uint8)),\n",
       " (256, array([  0, 255], dtype=uint8)),\n",
       " (259, array([0], dtype=uint8)),\n",
       " (260, array([0], dtype=uint8)),\n",
       " (257, array([0], dtype=uint8)),\n",
       " (258, array([0], dtype=uint8)),\n",
       " (17, array([0], dtype=uint8)),\n",
       " (8191, array([255], dtype=uint8))]"
      ]
     },
     "execution_count": 38,
     "metadata": {},
     "output_type": "execute_result"
    }
   ],
   "source": [
    "[(p, np.unique(np.diff(continuity[pid == p]) % 16 - 1)) for p in set(pid)]"
   ]
  },
  {
   "cell_type": "code",
   "execution_count": 39,
   "id": "7bf2738c-30e9-408d-853b-e59de303da7c",
   "metadata": {},
   "outputs": [
    {
     "data": {
      "text/plain": [
       "array([3, 1, 1, ..., 2, 2, 2], dtype=uint8)"
      ]
     },
     "execution_count": 39,
     "metadata": {},
     "output_type": "execute_result"
    }
   ],
   "source": [
    "adaptation[pid == 256]"
   ]
  },
  {
   "cell_type": "code",
   "execution_count": 40,
   "id": "802af5a5-df7f-4f1d-82cb-a3995e1009b4",
   "metadata": {},
   "outputs": [],
   "source": [
    "sel = (pid == 256) & (adaptation == 3)\n",
    "adaptation_length = ts[sel][:, 4]\n",
    "sel2 = adaptation_length > 0\n",
    "discontinuity = ts[sel][sel2][:, 5] >> 7\n",
    "random_access = (ts[sel][sel2][:, 5] >> 6) & 1\n",
    "es_priority = (ts[sel][sel2][:, 5] >> 5) & 1\n",
    "pcr_flag = (ts[sel][sel2][:, 5] >> 4) & 1\n",
    "opcr_flag = (ts[sel][sel2][:, 5] >> 3) & 1\n",
    "splicing_point_flag = (ts[sel][sel2][:, 5] >> 2) & 1\n",
    "transport_private_data_flag = (ts[sel][sel2][:, 5] >> 1) & 1\n",
    "extension_flag = ts[sel][sel2][:, 5] & 1"
   ]
  },
  {
   "cell_type": "code",
   "execution_count": 41,
   "id": "72d52ca1-10cd-4268-b531-6f24f052c14e",
   "metadata": {},
   "outputs": [],
   "source": [
    "pcr_data = ts[sel][sel2][pcr_flag == 1][:, 6:12]\n",
    "pcr = (((pcr_data[:, :4].ravel().view('uint32').byteswap().astype('int') << 1) | (pcr_data[:, 4] >> 7)) * 300 \n",
    "    + (((pcr_data[:, -2] & 1).astype('int') << 8) | pcr_data[:, -1].astype('int'))\n",
    "      ) / 27e6\n",
    "pcr_idx = np.arange(ts.shape[0])[sel][sel2][pcr_flag == 1] * 8 * 188"
   ]
  },
  {
   "cell_type": "code",
   "execution_count": 42,
   "id": "09273777-74a3-481a-ad4a-63606a542767",
   "metadata": {},
   "outputs": [
    {
     "data": {
      "text/plain": [
       "[<matplotlib.lines.Line2D at 0x7fbec0b96b90>]"
      ]
     },
     "execution_count": 42,
     "metadata": {},
     "output_type": "execute_result"
    },
    {
     "data": {
      "image/png": "[encoded data removed]",
      "text/plain": [
       "<Figure size 700x350 with 1 Axes>"
      ]
     },
     "metadata": {},
     "output_type": "display_data"
    }
   ],
   "source": [
    "plt.plot(pcr_idx, pcr)"
   ]
  },
  {
   "cell_type": "code",
   "execution_count": 43,
   "id": "bdf12156-f6e5-4363-bd41-0bdb6484eebe",
   "metadata": {},
   "outputs": [
    {
     "data": {
      "text/plain": [
       "[<matplotlib.lines.Line2D at 0x7fbec02ed890>]"
      ]
     },
     "execution_count": 43,
     "metadata": {},
     "output_type": "execute_result"
    },
    {
     "data": {
      "image/png": "[encoded data removed]",
      "text/plain": [
       "<Figure size 700x350 with 1 Axes>"
      ]
     },
     "metadata": {},
     "output_type": "display_data"
    }
   ],
   "source": [
    "p = np.polyfit(pcr_idx, pcr, 1)\n",
    "plt.plot(pcr_idx, 1e9 * (pcr - np.polyval(p, pcr_idx)))"
   ]
  },
  {
   "cell_type": "code",
   "execution_count": 44,
   "id": "0d058306-65fa-4c54-af06-a38d13292ef6",
   "metadata": {},
   "outputs": [
    {
     "data": {
      "text/plain": [
       "988857.9999967015"
      ]
     },
     "execution_count": 44,
     "metadata": {},
     "output_type": "execute_result"
    }
   ],
   "source": [
    "1 / p[0]"
   ]
  }
 ],
 "metadata": {
  "kernelspec": {
   "display_name": "Python 3 (ipykernel)",
   "language": "python",
   "name": "python3"
  },
  "language_info": {
   "codemirror_mode": {
    "name": "ipython",
    "version": 3
   },
   "file_extension": ".py",
   "mimetype": "text/x-python",
   "name": "python",
   "nbconvert_exporter": "python",
   "pygments_lexer": "ipython3",
   "version": "3.11.5"
  }
 },
 "nbformat": 4,
 "nbformat_minor": 5
}
